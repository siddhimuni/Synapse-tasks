{
 "cells": [
  {
   "cell_type": "code",
   "execution_count": 21,
   "id": "53044329",
   "metadata": {},
   "outputs": [
    {
     "name": "stdout",
     "output_type": "stream",
     "text": [
      "2\n",
      "2\n",
      "0\n"
     ]
    }
   ],
   "source": [
    "class Titandex:\n",
    "    def __init__(self,name,height,strength,winning_streak=0):\n",
    "        self.name=name\n",
    "        self.height=height\n",
    "        self.strength=strength\n",
    "        self.winning_streak=winning_streak\n",
    "       # self.winning_streak=0\n",
    "        \n",
    "    def TitanvsScout(self,scout_name,scout_strength):\n",
    "        self.scout_name=scout_name\n",
    "        self.scout_strength=scout_strength\n",
    "        \n",
    "        if(self.strength>self.scout_strength):\n",
    "            self.winning_streak+=1\n",
    "        else:\n",
    "            self.winning_streak=0\n",
    "            \n",
    "            \n",
    "    def TitanvsTitan(self,titan):\n",
    "        self.streak=0\n",
    "        for ele in titan:\n",
    "            if(self.name!=ele[0]):\n",
    "                if(self.strength>ele[2]):\n",
    "                    self.streak+=1\n",
    "                else:\n",
    "                    self.streak=0\n",
    "            \n",
    "titan =[['abc',20,100],['123',50,110]]\n",
    "scout=[['a',20],['b',90]]\n",
    "for ele in titan:\n",
    "    obj=Titandex(ele[0],ele[1],ele[2])\n",
    "    for i in scout:\n",
    "        obj.TitanvsScout(i[0],i[1])\n",
    "    print(obj.winning_streak)\n",
    "obj=Titandex('abc',20,100)\n",
    "obj.TitanvsTitan(titan)\n",
    "print(obj.streak)"
   ]
  }
 ],
 "metadata": {
  "kernelspec": {
   "display_name": "Python 3 (ipykernel)",
   "language": "python",
   "name": "python3"
  },
  "language_info": {
   "codemirror_mode": {
    "name": "ipython",
    "version": 3
   },
   "file_extension": ".py",
   "mimetype": "text/x-python",
   "name": "python",
   "nbconvert_exporter": "python",
   "pygments_lexer": "ipython3",
   "version": "3.9.12"
  }
 },
 "nbformat": 4,
 "nbformat_minor": 5
}
