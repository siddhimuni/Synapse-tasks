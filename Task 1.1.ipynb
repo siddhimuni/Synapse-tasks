{
 "cells": [
  {
   "cell_type": "code",
   "execution_count": 32,
   "id": "ad863d7c",
   "metadata": {},
   "outputs": [],
   "source": [
    "modern_family = ['CLaiRe_DunPhY', 'PHiL_dUnpHY', 'GLoRiA_PriTCheTt', 'CaMErOn_TuCKEr',\n",
    "'StELLa']\n",
    "indices =[]\n",
    "characters=[]"
   ]
  },
  {
   "cell_type": "code",
   "execution_count": 33,
   "id": "1f70896b",
   "metadata": {},
   "outputs": [
    {
     "data": {
      "text/plain": [
       "[(0, 'CLaiRe_DunPhY'),\n",
       " (1, 'PHiL_dUnpHY'),\n",
       " (2, 'GLoRiA_PriTCheTt'),\n",
       " (3, 'CaMErOn_TuCKEr'),\n",
       " (4, 'StELLa')]"
      ]
     },
     "execution_count": 33,
     "metadata": {},
     "output_type": "execute_result"
    }
   ],
   "source": [
    "a = list(enumerate(modern_family))\n",
    "a"
   ]
  },
  {
   "cell_type": "code",
   "execution_count": 34,
   "id": "0e579926",
   "metadata": {},
   "outputs": [
    {
     "name": "stdout",
     "output_type": "stream",
     "text": [
      "0 CLaiRe_DunPhY\n",
      "1 PHiL_dUnpHY\n",
      "2 GLoRiA_PriTCheTt\n",
      "3 CaMErOn_TuCKEr\n",
      "4 StELLa\n"
     ]
    }
   ],
   "source": [
    "for index,char in a:\n",
    "    print(index,char)\n",
    "    indices.append(index)\n",
    "    characters.append(char)"
   ]
  },
  {
   "cell_type": "code",
   "execution_count": 35,
   "id": "bb69f7b4",
   "metadata": {},
   "outputs": [
    {
     "data": {
      "text/plain": [
       "['CLaiRe_DunPhY',\n",
       " 'PHiL_dUnpHY',\n",
       " 'GLoRiA_PriTCheTt',\n",
       " 'CaMErOn_TuCKEr',\n",
       " 'StELLa']"
      ]
     },
     "execution_count": 35,
     "metadata": {},
     "output_type": "execute_result"
    }
   ],
   "source": [
    "characters"
   ]
  },
  {
   "cell_type": "code",
   "execution_count": 36,
   "id": "79ed5400",
   "metadata": {},
   "outputs": [
    {
     "data": {
      "text/plain": [
       "[0, 1, 2, 3, 4]"
      ]
     },
     "execution_count": 36,
     "metadata": {},
     "output_type": "execute_result"
    }
   ],
   "source": [
    "indices"
   ]
  },
  {
   "cell_type": "code",
   "execution_count": 44,
   "id": "eaf279e0",
   "metadata": {},
   "outputs": [],
   "source": [
    "characters = [x.lower() for x in characters]"
   ]
  },
  {
   "cell_type": "code",
   "execution_count": 45,
   "id": "c92c4059",
   "metadata": {},
   "outputs": [
    {
     "data": {
      "text/plain": [
       "['claire_dunphy',\n",
       " 'phil_dunphy',\n",
       " 'gloria_pritchett',\n",
       " 'cameron_tucker',\n",
       " 'stella']"
      ]
     },
     "execution_count": 45,
     "metadata": {},
     "output_type": "execute_result"
    }
   ],
   "source": [
    "characters"
   ]
  },
  {
   "cell_type": "code",
   "execution_count": 46,
   "id": "a12e365a",
   "metadata": {},
   "outputs": [],
   "source": [
    "characters = [x.replace(\"_\",\"-\") for x in characters]"
   ]
  },
  {
   "cell_type": "code",
   "execution_count": 47,
   "id": "dc19bf1c",
   "metadata": {},
   "outputs": [
    {
     "data": {
      "text/plain": [
       "['claire-dunphy',\n",
       " 'phil-dunphy',\n",
       " 'gloria-pritchett',\n",
       " 'cameron-tucker',\n",
       " 'stella']"
      ]
     },
     "execution_count": 47,
     "metadata": {},
     "output_type": "execute_result"
    }
   ],
   "source": [
    "characters"
   ]
  },
  {
   "cell_type": "code",
   "execution_count": 37,
   "id": "dc56bd7d",
   "metadata": {},
   "outputs": [
    {
     "data": {
      "text/plain": [
       "<function __main__.<lambda>(x)>"
      ]
     },
     "execution_count": 37,
     "metadata": {},
     "output_type": "execute_result"
    }
   ],
   "source": [
    "length = lambda x:len(x)\n",
    "length"
   ]
  },
  {
   "cell_type": "code",
   "execution_count": 38,
   "id": "04995b9a",
   "metadata": {},
   "outputs": [
    {
     "data": {
      "text/plain": [
       "[13, 11, 16, 14, 6]"
      ]
     },
     "execution_count": 38,
     "metadata": {},
     "output_type": "execute_result"
    }
   ],
   "source": [
    "temp = list(map(length,characters))\n",
    "temp"
   ]
  },
  {
   "cell_type": "code",
   "execution_count": 39,
   "id": "1fc18806",
   "metadata": {},
   "outputs": [],
   "source": [
    "indices = list(map(sum, zip(temp, indices)))"
   ]
  },
  {
   "cell_type": "code",
   "execution_count": 40,
   "id": "648c6cd1",
   "metadata": {},
   "outputs": [
    {
     "data": {
      "text/plain": [
       "[13, 12, 18, 17, 10]"
      ]
     },
     "execution_count": 40,
     "metadata": {},
     "output_type": "execute_result"
    }
   ],
   "source": [
    "indices\n"
   ]
  },
  {
   "cell_type": "code",
   "execution_count": 41,
   "id": "c886ea23",
   "metadata": {},
   "outputs": [
    {
     "data": {
      "text/plain": [
       "[18, 17, 13, 12, 10]"
      ]
     },
     "execution_count": 41,
     "metadata": {},
     "output_type": "execute_result"
    }
   ],
   "source": [
    "indices.sort(reverse=True)\n",
    "indices"
   ]
  },
  {
   "cell_type": "code",
   "execution_count": 56,
   "id": "530e71a2",
   "metadata": {},
   "outputs": [],
   "source": [
    "Phew_finally={}\n",
    "Phew_finally =dict(zip(indices,characters))"
   ]
  },
  {
   "cell_type": "code",
   "execution_count": 57,
   "id": "7d1c175c",
   "metadata": {},
   "outputs": [
    {
     "data": {
      "text/plain": [
       "{18: 'claire-dunphy',\n",
       " 17: 'phil-dunphy',\n",
       " 13: 'gloria-pritchett',\n",
       " 12: 'cameron-tucker',\n",
       " 10: 'stella'}"
      ]
     },
     "execution_count": 57,
     "metadata": {},
     "output_type": "execute_result"
    }
   ],
   "source": [
    "Phew_finally"
   ]
  }
 ],
 "metadata": {
  "kernelspec": {
   "display_name": "Python 3 (ipykernel)",
   "language": "python",
   "name": "python3"
  },
  "language_info": {
   "codemirror_mode": {
    "name": "ipython",
    "version": 3
   },
   "file_extension": ".py",
   "mimetype": "text/x-python",
   "name": "python",
   "nbconvert_exporter": "python",
   "pygments_lexer": "ipython3",
   "version": "3.9.12"
  }
 },
 "nbformat": 4,
 "nbformat_minor": 5
}
