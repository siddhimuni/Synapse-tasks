{
 "cells": [
  {
   "cell_type": "code",
   "execution_count": 1,
   "id": "294b86cd",
   "metadata": {},
   "outputs": [],
   "source": [
    "creepy_doll = ['red_light', 'green_light', 'red_light', 'you_got_shot', 'green_light', 'you_got_shot',\n",
    "'you_got_shot', 'green_light', 'you_ got_shot', 'red_light', 'green_light', 'red_light', 'you_got_shot',\n",
    "'green_light','red_light', 'red_light', 'green_light', 'you_got_shot','red_light', 'you_got_shot']\n",
    "next_game=[]\n",
    "\n",
    "\n",
    "       \n"
   ]
  },
  {
   "cell_type": "code",
   "execution_count": 2,
   "id": "8bacff5a",
   "metadata": {},
   "outputs": [],
   "source": [
    "next_game = creepy_doll[1:17:3]"
   ]
  },
  {
   "cell_type": "code",
   "execution_count": 3,
   "id": "513ca7cb",
   "metadata": {},
   "outputs": [
    {
     "name": "stdout",
     "output_type": "stream",
     "text": [
      "['green_light', 'green_light', 'green_light', 'green_light', 'green_light', 'green_light']\n"
     ]
    }
   ],
   "source": [
    "print(next_game)"
   ]
  },
  {
   "cell_type": "code",
   "execution_count": null,
   "id": "b031010a",
   "metadata": {},
   "outputs": [],
   "source": []
  }
 ],
 "metadata": {
  "kernelspec": {
   "display_name": "Python 3 (ipykernel)",
   "language": "python",
   "name": "python3"
  },
  "language_info": {
   "codemirror_mode": {
    "name": "ipython",
    "version": 3
   },
   "file_extension": ".py",
   "mimetype": "text/x-python",
   "name": "python",
   "nbconvert_exporter": "python",
   "pygments_lexer": "ipython3",
   "version": "3.9.12"
  }
 },
 "nbformat": 4,
 "nbformat_minor": 5
}
